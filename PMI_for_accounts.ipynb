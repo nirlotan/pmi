{
 "cells": [
  {
   "cell_type": "markdown",
   "metadata": {},
   "source": [
    "This code gets a list of users in categories and checks for joint accounts based on PMI calculations\n",
    "\n",
    "Expected Data Format:\n",
    "\n",
    "| user1 | screen_name | user2 | category |"
   ]
  },
  {
   "cell_type": "code",
   "execution_count": 1,
   "metadata": {},
   "outputs": [],
   "source": [
    "import pandas as pd\n",
    "import os\n",
    "import ast\n",
    "import swifter\n",
    "import math"
   ]
  },
  {
   "cell_type": "markdown",
   "metadata": {},
   "source": [
    "# Load files with the list of accounts"
   ]
  },
  {
   "cell_type": "code",
   "execution_count": 2,
   "metadata": {},
   "outputs": [
    {
     "name": "stderr",
     "output_type": "stream",
     "text": [
      "Pandas Apply: 100%|██████████| 30244/30244 [01:35<00:00, 315.67it/s]\n",
      "Backing off send_request(...) for 0.7s (requests.exceptions.ConnectTimeout: HTTPSConnectionPool(host='api.segment.io', port=443): Max retries exceeded with url: /v1/batch (Caused by ConnectTimeoutError(<urllib3.connection.HTTPSConnection object at 0x12685a8b0>, 'Connection to api.segment.io timed out. (connect timeout=15)')))\n"
     ]
    }
   ],
   "source": [
    "path = \"/Users/nlotan/Dropbox/לימודים/University/Research Data Backup/For Sagi\"\n",
    "original_users = pd.DataFrame()\n",
    "\n",
    "for root, dirs, files  in os.walk(path):\n",
    "    for name in files:\n",
    "        if name.endswith(\".csv\"):\n",
    "            st_name = os.path.join(root, name)\n",
    "            filepath = st_name\n",
    "            category =  (st_name.split(\"/\")[-2])\n",
    "            new_df = pd.read_csv(filepath)\n",
    "            new_df['category'] = category\n",
    "            original_users = pd.concat([original_users,new_df], ignore_index=True)\n",
    "            \n",
    "            \n",
    "original_users.drop_duplicates(subset=['user1'], keep='first', inplace=True)\n",
    "original_users['user2'] = original_users['user2'].swifter.apply (lambda x: ast.literal_eval(x))"
   ]
  },
  {
   "cell_type": "markdown",
   "metadata": {},
   "source": [
    "# Downsample the random category"
   ]
  },
  {
   "cell_type": "code",
   "execution_count": 3,
   "metadata": {},
   "outputs": [],
   "source": [
    "def downsample_category(df, category_index, category_name, proportion):\n",
    "    df_non_category = df[df[category_index] != category_name]\n",
    "    \n",
    "    under_sample_criteria = df[category_index]==category_name\n",
    "    downsampled_df = df.sample(frac=proportion, \n",
    "                               axis=0, \n",
    "                               weights=under_sample_criteria, \n",
    "                               random_state=42)\n",
    "    \n",
    "    downsampled_df = pd.concat([downsampled_df,df_non_category],sort=False)\n",
    "    return downsampled_df"
   ]
  },
  {
   "cell_type": "code",
   "execution_count": 4,
   "metadata": {},
   "outputs": [],
   "source": [
    "original_users = original_users.dropna()\n",
    "original_users = downsample_category(original_users,\"category\",\"random_users\",0.25)"
   ]
  },
  {
   "cell_type": "code",
   "execution_count": 5,
   "metadata": {},
   "outputs": [
    {
     "data": {
      "text/plain": [
       "random_users       7561\n",
       "uncivil_users      7163\n",
       "political_users    3200\n",
       "Name: category, dtype: int64"
      ]
     },
     "execution_count": 5,
     "metadata": {},
     "output_type": "execute_result"
    }
   ],
   "source": [
    "original_users.category.value_counts()"
   ]
  },
  {
   "cell_type": "markdown",
   "metadata": {},
   "source": [
    "# Choose subclasses now\n"
   ]
  },
  {
   "cell_type": "code",
   "execution_count": 6,
   "metadata": {},
   "outputs": [
    {
     "data": {
      "text/plain": [
       "array(['random_users', 'uncivil_users', 'political_users'], dtype=object)"
      ]
     },
     "execution_count": 6,
     "metadata": {},
     "output_type": "execute_result"
    }
   ],
   "source": [
    "original_users.category.unique()"
   ]
  },
  {
   "cell_type": "code",
   "execution_count": 12,
   "metadata": {},
   "outputs": [],
   "source": [
    "categories_for_now = ['uncivil_users', 'political_users']"
   ]
  },
  {
   "cell_type": "code",
   "execution_count": 13,
   "metadata": {},
   "outputs": [],
   "source": [
    "original_users = original_users[original_users['category'].isin(categories_for_now)]"
   ]
  },
  {
   "cell_type": "markdown",
   "metadata": {},
   "source": [
    " # Explode the dataframe into a list of rows, one per friend"
   ]
  },
  {
   "cell_type": "code",
   "execution_count": 15,
   "metadata": {},
   "outputs": [],
   "source": [
    "#create one line per user1 + user2 combination for easy counting/grouping\n",
    "all_users = original_users.explode(\"user2\")"
   ]
  },
  {
   "cell_type": "markdown",
   "metadata": {},
   "source": [
    "# Load poplar users and details"
   ]
  },
  {
   "cell_type": "code",
   "execution_count": 16,
   "metadata": {},
   "outputs": [],
   "source": [
    "popular_df = pd.read_pickle(\"/Users/nlotan/code/university/SocialVec/auxiliary/users_with_over_200_DETAILS.pkl\")\n",
    "popular_users_list = popular_df.dropna().user_id.astype(int).tolist()\n",
    "all_users_popular = all_users[all_users['user2'].isin(popular_users_list)]"
   ]
  },
  {
   "cell_type": "code",
   "execution_count": 17,
   "metadata": {},
   "outputs": [],
   "source": [
    "## Count the number of occurrences of user2 in each category\n",
    "user2_count_by_category = all_users_popular.groupby(['category','user2']).count().reset_index()\n",
    "user2_count_by_category['user2']=user2_count_by_category['user2'].astype(int)\n",
    "user2_count_by_category.rename(columns={0:'count'}, inplace=True)\n",
    "user2_count_all = user2_count_by_category.groupby(['user2']).sum().reset_index()"
   ]
  },
  {
   "cell_type": "code",
   "execution_count": 18,
   "metadata": {},
   "outputs": [],
   "source": [
    "# Mutual information Matrix\n",
    "#ref: https://nlp.stanford.edu/IR-book/html/htmledition/mutual-information-1.html\n",
    "\n",
    "# c - class\n",
    "# a - account \n",
    "\n",
    "# for each class:\n",
    "#          | c=1   | c=0     |\n",
    "# --------+--------+---------+\n",
    "#  a=1    |  n11  |    n10   |\n",
    "# --------+-------+----------+\n",
    "#  a=0    |  n01  |  n00     |\n",
    "# --------+-------+----------+"
   ]
  },
  {
   "cell_type": "code",
   "execution_count": 19,
   "metadata": {},
   "outputs": [],
   "source": [
    "#number of users in this report\n",
    "all_user1_count = original_users['user1'].nunique()\n",
    "list_of_all_followees = user2_count_all['user2'].unique()\n",
    "all_categories = user2_count_by_category['category'].unique()"
   ]
  },
  {
   "cell_type": "code",
   "execution_count": 20,
   "metadata": {},
   "outputs": [],
   "source": [
    "all_user2_count = user2_count_all['user2'].nunique()"
   ]
  },
  {
   "cell_type": "markdown",
   "metadata": {},
   "source": [
    "To compute the PMI between a class (uncivil) and each account followed (e.g., Obama):\n",
    "\n",
    "Pr(Obama, uncivil) = % of users that are uncivil who follow Obama\n",
    "Pr(uncivil) = % of users in the dataset that are uncivil\n",
    "Pr(Obama) = % of users in the dataset (regardless of their label) who follow Obama\n",
    "\n",
    "PMI(Obama,uncivil) = log_2 ( Pr(O,U) / (Pr(O)*Pr(U)) )\n",
    "\n",
    "This should be computed for each of the accounts followed in the dataset X class. Then, we would like to see the accounts with the highest PMI scores per class.\n"
   ]
  },
  {
   "cell_type": "code",
   "execution_count": null,
   "metadata": {},
   "outputs": [],
   "source": [
    "import math\n",
    "from tqdm import tqdm\n",
    "tqdm.pandas()"
   ]
  },
  {
   "cell_type": "markdown",
   "metadata": {},
   "source": [
    "# Optimizations - pre calculate all you need\n"
   ]
  },
  {
   "cell_type": "code",
   "execution_count": 23,
   "metadata": {},
   "outputs": [],
   "source": [
    "\n",
    "pr_class_dict = {}\n",
    "\n",
    "for current_category in all_categories:\n",
    "    this_class_count        = original_users[original_users['category']==current_category]['user1'].nunique()\n",
    "    pr_class_dict[current_category] = this_class_count        / all_user1_count\n",
    "    \n",
    "class_count_dict = {}\n",
    "\n",
    "for current_category in all_categories:\n",
    "    class_count_dict[current_category]        = original_users[original_users['category']==current_category]['user1'].nunique()"
   ]
  },
  {
   "cell_type": "code",
   "execution_count": 24,
   "metadata": {},
   "outputs": [
    {
     "name": "stderr",
     "output_type": "stream",
     "text": [
      "Dask Apply: 100%|██████████| 32/32 [01:43<00:00,  3.22s/it]\n"
     ]
    }
   ],
   "source": [
    "\n",
    "user2_count_all['pr_account'] = user2_count_all['user2'].swifter.apply(lambda x: user2_count_all[user2_count_all['user2']==x]['user1'].values[0] / all_user1_count)\n"
   ]
  },
  {
   "cell_type": "code",
   "execution_count": 25,
   "metadata": {},
   "outputs": [
    {
     "name": "stderr",
     "output_type": "stream",
     "text": [
      "Dask Apply: 100%|██████████| 32/32 [06:33<00:00, 12.30s/it]  \n",
      "Dask Apply: 100%|██████████| 32/32 [07:02<00:00, 13.20s/it]  \n"
     ]
    }
   ],
   "source": [
    "# optimized pmi_calc\n",
    "\n",
    "PMI_res = pd.DataFrame()\n",
    "\n",
    "def calc_pmi( curr_row):\n",
    "    \n",
    "    global PMI_res\n",
    "    global global_class\n",
    "    \n",
    "    user2_ = curr_row.user2\n",
    "    current_category = global_class\n",
    "        \n",
    "    # total number of users2 in this category\n",
    "    this_class_count        = class_count_dict[current_category]\n",
    "    \n",
    "    # Pr(Obama) = % of users in the dataset (regardless of their label) who follow Obama\n",
    "    pr_account = curr_row.pr_account #user2_count_all[user2_count_all[user2_count_all['user2']==user2_]]['pr_account'].value\n",
    "\n",
    "    #Pr(uncivil) = % of users in the dataset that are uncivil\n",
    "    pr_class         = pr_class_dict[current_category]\n",
    "\n",
    "    #Pr(Obama, uncivil) = % of users that are uncivil who follow Obama\n",
    "    #Pr(Obama, uncivil) = % of users that are uncivil who follow Obama\n",
    "    this_user_in_class_count = user2_count_by_category[user2_count_by_category['user2']==user2_]['user1'].values[0]\n",
    "    pr_account_class =  this_user_in_class_count / this_class_count\n",
    "    \n",
    "    # PMI(Obama,uncivil) = log_2 ( Pr(O,U) / (Pr(O)*Pr(U)) )\n",
    "    pmi_score = math.log2( pr_account_class / (pr_account * pr_class ) )\n",
    "\n",
    "    PMI_res = PMI_res.append({'user2':int(user2_), 'category':current_category, 'pmi':pmi_score, 'count_in_class':this_user_in_class_count}, ignore_index=True)\n",
    "\n",
    "\n",
    "for class_ in all_users_popular.category.unique():\n",
    "    global_class = class_\n",
    "    user2_count_all.swifter.apply(calc_pmi, axis=1)"
   ]
  },
  {
   "cell_type": "code",
   "execution_count": 26,
   "metadata": {},
   "outputs": [],
   "source": [
    "PMI_res.to_csv('pmi_political_vs_uncivil.csv')"
   ]
  },
  {
   "cell_type": "code",
   "execution_count": null,
   "metadata": {},
   "outputs": [],
   "source": []
  },
  {
   "cell_type": "code",
   "execution_count": null,
   "metadata": {},
   "outputs": [],
   "source": []
  },
  {
   "cell_type": "code",
   "execution_count": null,
   "metadata": {},
   "outputs": [],
   "source": []
  },
  {
   "cell_type": "code",
   "execution_count": null,
   "metadata": {},
   "outputs": [],
   "source": []
  },
  {
   "cell_type": "code",
   "execution_count": null,
   "metadata": {},
   "outputs": [],
   "source": [
    "PMI_res.sort_values(by=['pmi'], ascending=False)"
   ]
  },
  {
   "cell_type": "code",
   "execution_count": null,
   "metadata": {},
   "outputs": [],
   "source": [
    "# works"
   ]
  },
  {
   "cell_type": "code",
   "execution_count": null,
   "metadata": {},
   "outputs": [],
   "source": [
    "PMI_res = pd.DataFrame()\n",
    "\n",
    "def calc_pmi(user2_):\n",
    "    global PMI_res\n",
    "    for current_category in all_categories:\n",
    "        # total number of users2 in this category\n",
    "        this_class_count        = original_users[original_users['category']==current_category]['user1'].nunique()\n",
    "        \n",
    "        # Pr(Obama) = % of users in the dataset (regardless of their label) who follow Obama\n",
    "        pr_account = user2_count_all[user2_count_all['user2']==user2_]['user1'].values[0] / all_user1_count\n",
    "\n",
    "        #Pr(uncivil) = % of users in the dataset that are uncivil\n",
    "        pr_class         = this_class_count        / all_user1_count\n",
    "\n",
    "        #Pr(Obama, uncivil) = % of users that are uncivil who follow Obama\n",
    "        pr_account_class = user2_count_by_category[user2_count_by_category['user2']==user2_]['user1'].values[0] / this_class_count\n",
    "\n",
    "        # PMI(Obama,uncivil) = log_2 ( Pr(O,U) / (Pr(O)*Pr(U)) )\n",
    "        pmi_score = math.log2( pr_account_class / (pr_account * pr_class ) )\n",
    "\n",
    "        PMI_res = PMI_res.append({'user2':int(user2_), 'category':current_category, 'pmi':pmi_score}, ignore_index=True)\n",
    "\n",
    "user2_count_all['user2'].progress_apply(calc_pmi)"
   ]
  },
  {
   "cell_type": "code",
   "execution_count": null,
   "metadata": {},
   "outputs": [],
   "source": []
  },
  {
   "cell_type": "code",
   "execution_count": null,
   "metadata": {},
   "outputs": [],
   "source": [
    "PMI_res.user2 = PMI_res.user2.astype(int)\n",
    "mdf = pd.merge( PMI_res, popular_df, left_on=\"user2\", right_on=\"user_id\", how=\"left\")"
   ]
  },
  {
   "cell_type": "code",
   "execution_count": null,
   "metadata": {},
   "outputs": [],
   "source": [
    "popular_df.dropna(inplace=True)\n",
    "popular_df.user_id = popular_df.user_id.astype(int)"
   ]
  },
  {
   "cell_type": "code",
   "execution_count": null,
   "metadata": {},
   "outputs": [],
   "source": [
    "#mdf[(~mdf['user_id'].isna())&(mdf['category']=='political_users')]\n",
    "mdf[mdf['count_in_class']>20].sort_values(by=['pmi'], ascending=False)"
   ]
  },
  {
   "cell_type": "code",
   "execution_count": null,
   "metadata": {},
   "outputs": [],
   "source": [
    "original_users['user1'] = original_users['user1'].astype(int)"
   ]
  },
  {
   "cell_type": "code",
   "execution_count": null,
   "metadata": {},
   "outputs": [],
   "source": [
    "original_users[['user1','screen_name']].sort_values(by='user1')"
   ]
  },
  {
   "cell_type": "code",
   "execution_count": null,
   "metadata": {},
   "outputs": [],
   "source": [
    "    import pandas as pd\n",
    "    \n",
    "    popular_df = pd.read_pickle(\n",
    "        \"/Users/nlotan/code/university/SocialVec/auxiliary/users_with_over_200_DETAILS.pkl\")"
   ]
  },
  {
   "cell_type": "code",
   "execution_count": null,
   "metadata": {},
   "outputs": [],
   "source": [
    "def make_clickable(username):\n",
    "    # target _blank to open new window\n",
    "    # extract clickable text to display for your link\n",
    "    \n",
    "    link = f\"https://twitter.com/{username}\"\n",
    "    return f'<a target=\"_blank\" href=\"{link}\">Twitter link</a>'\n"
   ]
  },
  {
   "cell_type": "code",
   "execution_count": null,
   "metadata": {},
   "outputs": [],
   "source": [
    "popular_df['link'] = popular_df['screen_name'].apply(make_clickable)"
   ]
  },
  {
   "cell_type": "code",
   "execution_count": null,
   "metadata": {},
   "outputs": [],
   "source": [
    "popular_df"
   ]
  },
  {
   "cell_type": "code",
   "execution_count": null,
   "metadata": {},
   "outputs": [],
   "source": []
  }
 ],
 "metadata": {
  "interpreter": {
   "hash": "aee8b7b246df8f9039afb4144a1f6fd8d2ca17a180786b69acc140d282b71a49"
  },
  "kernelspec": {
   "display_name": "Python 3.9.12 64-bit",
   "language": "python",
   "name": "python3"
  },
  "language_info": {
   "codemirror_mode": {
    "name": "ipython",
    "version": 3
   },
   "file_extension": ".py",
   "mimetype": "text/x-python",
   "name": "python",
   "nbconvert_exporter": "python",
   "pygments_lexer": "ipython3",
   "version": "3.9.12"
  },
  "orig_nbformat": 4
 },
 "nbformat": 4,
 "nbformat_minor": 2
}
